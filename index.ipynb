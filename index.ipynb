{
 "cells": [
  {
   "cell_type": "markdown",
   "metadata": {},
   "source": [
    "# Ordinary Least Squares in Statsmodels (OLS) - Lab\n",
    "\n",
    "## Introduction\n",
    "\n",
    "Previously, you looked at all the requirements for running an OLS simple linear regression using Statsmodels. You worked with the height-weight data set to understand the process and all of the necessary steps that must be performed. In this lab , you'll explore a slightly more complex example to study the impact of spending on different advertising channels on total sales.\n",
    "\n",
    "## Objectives\n",
    "\n",
    "You will be able to:\n",
    "* Perform a linear regression using statsmodels\n",
    "* Evaluate a linear regression model by using statistical performance metrics pertaining to overall model and specific parameters\n",
    "* Determine if a particular set of data exhibits the assumptions of linear regression\n",
    "\n",
    "## Let's get started\n",
    "\n",
    "In this lab, you'll work with the \"Advertising Dataset\", which is a very popular dataset for studying simple regression. [The dataset is available on Kaggle](https://www.kaggle.com/purbar/advertising-data), but we have downloaded it for you. It is available in this repository as `advertising.csv`. You'll use this dataset to answer this question:\n",
    "\n",
    "> Which advertising channel has the strongest relationship with sales volume, and can be used to model and predict the sales?\n",
    "\n",
    "## Step 1: Read the dataset and inspect its columns and 5-point statistics"
   ]
  },
  {
   "cell_type": "code",
   "execution_count": null,
   "metadata": {},
   "outputs": [],
   "source": [
    "# Load necessary libraries and import the data\n",
    "import pandas as pd\n",
    "import matplotlib.pyplot as plt\n",
    "plt.style.use('ggplot')\n",
    "data = pd.read_csv('advertising.csv', index_col=0)"
   ]
  },
  {
   "cell_type": "code",
   "execution_count": null,
   "metadata": {},
   "outputs": [],
   "source": [
    "# Check the columns and first few rows\n",
    "data.head()"
   ]
  },
  {
   "cell_type": "code",
   "execution_count": null,
   "metadata": {},
   "outputs": [],
   "source": [
    "# Get the 5-point statistics for data \n",
    "data.describe()"
   ]
  },
  {
   "cell_type": "code",
   "execution_count": null,
   "metadata": {},
   "outputs": [],
   "source": [
    "# Describe the contents of this dataset\n",
    "\n",
    "# In every record, we have three predictors showing the advertising budget spent on TV, newspaper \n",
    "# and radio and a target variable (sales). The target variable shows the sales figure for each marketing \n",
    "# campaign along with money spent on all three channels. \n",
    "# Looking at means for predictors, most of the budget is spent on TV marketing, and the least is spent on radio."
   ]
  },
  {
   "cell_type": "markdown",
   "metadata": {},
   "source": [
    "## Step 2: Plot histograms with kde overlay to check the distribution of the predictors"
   ]
  },
  {
   "cell_type": "code",
   "execution_count": null,
   "metadata": {},
   "outputs": [],
   "source": [
    "# For all the variables, check distribution by creating a histogram with kde\n",
    "for column in data:\n",
    "    data[column].plot.hist(density=True, label = column+' histogram')\n",
    "    data[column].plot.kde(label =column+' kde')\n",
    "    plt.legend()\n",
    "    plt.show()"
   ]
  },
  {
   "cell_type": "code",
   "execution_count": null,
   "metadata": {},
   "outputs": [],
   "source": [
    "# Record your observations here \n",
    "\n",
    "# No variable is \"perfectly\" normal, but these do tend to follow an overall normal pattern. \n",
    "# We see major skew in the newspaper predictor which could be problematic towards analysis. \n",
    "# TV and radio are still pretty symmetrical distributions and can be used as predictors\n",
    "# The target variable \"sales\" is normally distributed with just a gentle skew"
   ]
  },
  {
   "cell_type": "markdown",
   "metadata": {},
   "source": [
    "\n",
    "## Step 3: Test for the linearity assumption \n",
    "\n",
    "Use scatterplots to plot each predictor against the target variable"
   ]
  },
  {
   "cell_type": "code",
   "execution_count": null,
   "metadata": {},
   "outputs": [],
   "source": [
    "# visualize the relationship between the preditors and the target using scatterplots\n",
    "fig, axs = plt.subplots(1, 3, sharey=True, figsize=(18, 6))\n",
    "for idx, channel in enumerate(['TV', 'radio', 'newspaper']):\n",
    "    data.plot(kind='scatter', x=channel, y='sales', ax=axs[idx], label=channel)\n",
    "plt.legend()\n",
    "plt.show()"
   ]
  },
  {
   "cell_type": "code",
   "execution_count": null,
   "metadata": {},
   "outputs": [],
   "source": [
    "# Record yor observations on linearity here \n",
    "\n",
    "# TV seems to be a good feature due to highly linear relationship with sales\n",
    "# radio shows a linear pattern as well but there a higher level of variance in there than TV\n",
    "# newspaper is worse, there is too much variance along the y-axis and there's no clear linear relationship \n",
    "# between newspaper and sales."
   ]
  },
  {
   "cell_type": "markdown",
   "metadata": {},
   "source": [
    "### Conclusion so far\n",
    "\n",
    "Based on above initial checks, we can confidently say that TV and radio appear to be good predictors for our regression analysis. Newspaper is very heavily skewed and also doesnt show any clear linear relationship with the target. \n",
    "> We'll move ahead with our analysis using TV and radio, and rule out newspaper because we believe it violates OLS assumptions\n",
    "\n",
    "Note: Kurtosis can be dealt with using techniques like log normalization to \"push\" the peak towards the center of distribution. You'll learn about this later on.\n",
    "\n",
    "## Step 4: Run a simple regression in Statsmodels with TV as a predictor"
   ]
  },
  {
   "cell_type": "code",
   "execution_count": null,
   "metadata": {},
   "outputs": [],
   "source": [
    "# import libraries\n",
    "import statsmodels.api as sm\n",
    "import statsmodels.formula.api as smf\n",
    "\n",
    "# build the formula \n",
    "f = 'sales~TV'\n",
    "# create a fitted model in one line\n",
    "model = smf.ols(formula=f, data=data).fit()"
   ]
  },
  {
   "cell_type": "markdown",
   "metadata": {},
   "source": [
    "## Step 5: Get Regression Diagnostics Summary"
   ]
  },
  {
   "cell_type": "code",
   "execution_count": null,
   "metadata": {},
   "outputs": [],
   "source": [
    "model.summary()"
   ]
  },
  {
   "cell_type": "markdown",
   "metadata": {},
   "source": [
    "Note here that the coefficients represent associations, not causations\n",
    "\n",
    "## Step 6:  Draw a prediction line with data points on a scatter plot for X (TV) and Y (Sales)\n",
    "\n",
    "Hint: You can use the `model.predict()` function to predict the start and end point of of regression line for the minimum and maximum values in the 'TV' variable. "
   ]
  },
  {
   "cell_type": "code",
   "execution_count": null,
   "metadata": {},
   "outputs": [],
   "source": [
    "# create a DataFrame with the minimum and maximum values of TV\n",
    "X_new = pd.DataFrame({'TV': [data.TV.min(), data.TV.max()]})\n",
    "print(X_new.head())\n",
    "\n",
    "# make predictions for those x values and store them\n",
    "preds = model.predict(X_new)\n",
    "print (preds)\n",
    "\n",
    "# first, plot the observed data and the least squares line\n",
    "data.plot(kind='scatter', x='TV', y='sales')\n",
    "plt.plot(X_new, preds, c='red', linewidth=2)\n",
    "plt.show()"
   ]
  },
  {
   "cell_type": "markdown",
   "metadata": {},
   "source": [
    "## Step 7: Visualize the error term for variance and heteroscedasticity"
   ]
  },
  {
   "cell_type": "code",
   "execution_count": null,
   "metadata": {},
   "outputs": [],
   "source": [
    "fig = plt.figure(figsize=(15,8))\n",
    "fig = sm.graphics.plot_regress_exog(model, \"TV\", fig=fig)\n",
    "plt.show()"
   ]
  },
  {
   "cell_type": "code",
   "execution_count": null,
   "metadata": {},
   "outputs": [],
   "source": [
    "# Record Your observations on heteroscedasticity\n",
    "\n",
    "# From the first and second plot in the first row, we see a cone-shape which is a sign of heteroscedasticity. \n",
    "# i.e. the residuals are heteroscedastic. This violates an assumption."
   ]
  },
  {
   "cell_type": "markdown",
   "metadata": {},
   "source": [
    "## Step 8: Check the normality assumptions by creating a QQ-plot"
   ]
  },
  {
   "cell_type": "code",
   "execution_count": null,
   "metadata": {},
   "outputs": [],
   "source": [
    "#Code for Q-Q plot here\n",
    "import scipy.stats as stats\n",
    "residuals = model.resid\n",
    "sm.graphics.qqplot(residuals, dist=stats.norm, line='45', fit=True)\n",
    "plt.show()"
   ]
  },
  {
   "cell_type": "code",
   "execution_count": null,
   "metadata": {},
   "outputs": [],
   "source": [
    "# Record Your observations on the normality assumption\n",
    "\n",
    "# With a pretty good QQ plot the normality assumption of the residuals seems fulfilled."
   ]
  },
  {
   "cell_type": "markdown",
   "metadata": {},
   "source": [
    "## Step 9: Repeat the above for radio and record your observations"
   ]
  },
  {
   "cell_type": "code",
   "execution_count": null,
   "metadata": {},
   "outputs": [],
   "source": [
    "# code for model, prediction line plot, heteroscedasticity check and QQ normality check here\n",
    "f = 'sales~radio'\n",
    "model = smf.ols(formula=f, data=data).fit()\n",
    "print ('R-Squared:',model.rsquared)\n",
    "print (model.params)\n",
    "X_new = pd.DataFrame({'radio': [data.radio.min(), data.radio.max()]});\n",
    "preds = model.predict(X_new)\n",
    "data.plot(kind='scatter', x='radio', y='sales');\n",
    "plt.plot(X_new, preds, c='red', linewidth=2);\n",
    "plt.show()\n",
    "fig = plt.figure(figsize=(15,8))\n",
    "fig = sm.graphics.plot_regress_exog(model, \"radio\", fig=fig)\n",
    "plt.show()\n",
    "import scipy.stats as stats\n",
    "residuals = model.resid\n",
    "fig = sm.graphics.qqplot(residuals, dist=stats.norm, line='45', fit=True)\n",
    "plt.show()"
   ]
  },
  {
   "cell_type": "code",
   "execution_count": null,
   "metadata": {},
   "outputs": [],
   "source": [
    "model.summary()"
   ]
  },
  {
   "cell_type": "code",
   "execution_count": null,
   "metadata": {},
   "outputs": [],
   "source": [
    "# Record your observations here for goodnes of fit \n",
    "\n",
    "# As a predictor, radio performs worse than TV. \n",
    "# It has higher amount of skewness and kurtosis than TV. After running the model, it also became clear that \n",
    "# the residuals QQ plot looks off, so the normality assumption is not fulfilled.\n",
    "# A very low R_squared explaining only 33% of variance in the target variable.\n",
    "\n",
    "# A \"unit\" increase in radio spending is associated with a 0.2025 \"unit\" increase in Sales.\n",
    "# OR An additional 1,000 spent on TV is associated with an increase in sales of 202.5\n",
    "\n",
    "# There is obvious heteroscedasticity as with the case of TV."
   ]
  },
  {
   "cell_type": "markdown",
   "metadata": {},
   "source": [
    "## The Answer\n",
    "\n",
    "Based on the above analysis, you can conclude that none of the two chosen predictors is ideal for modeling a relationship with the sales volumes. `Newspaper` clearly violated the linearity assumption. `TV` and `radio` did not provide a high value for the coefficient of determination, where TV performed slightly better than the radio. There is obvious heteroscdasticity in the residuals for both variables. \n",
    "\n",
    "> We can either look for further data, perform extra preprocessing or use more advanced techniques. \n",
    "\n",
    "Remember there are lots of techniques we can employ to fix these data. \n",
    "\n",
    "Whether we should call TV the \"best predictor\" or label all of them \"equally useless\", is a domain specific question and a marketing manager would have a better opinion on how to move forward with this situation. \n",
    "\n",
    "In the following lesson, you'll look at the more details on interpreting the regression diagnostics and confidence in the model. \n",
    "\n",
    "## Summary\n",
    "\n",
    "In this lab, you ran a complete regression analysis with a simple dataset. You used statsmodel to perform linear regression and evaluated your models using statistical metrics. You also looked for the regression assumptions before and after the analysis phase. Finally, you created some visualizations of your models and checked their goodness of fit. "
   ]
  }
 ],
 "metadata": {
  "kernelspec": {
   "display_name": "Python (learn-env)",
   "language": "python",
   "name": "learn-env"
  },
  "language_info": {
   "codemirror_mode": {
    "name": "ipython",
    "version": 3
   },
   "file_extension": ".py",
   "mimetype": "text/x-python",
   "name": "python",
   "nbconvert_exporter": "python",
   "pygments_lexer": "ipython3",
   "version": "3.8.5"
  }
 },
 "nbformat": 4,
 "nbformat_minor": 2
}
